{
 "cells": [
  {
   "cell_type": "code",
   "execution_count": null,
   "id": "c0a6df5f",
   "metadata": {},
   "outputs": [],
   "source": [
    "print(\"hello world\")"
   ]
  },
  {
   "cell_type": "code",
   "execution_count": null,
   "id": "290f54e3",
   "metadata": {},
   "outputs": [],
   "source": [
    "print(\"ammend\")"
   ]
  },
  {
   "cell_type": "code",
   "execution_count": null,
   "id": "38ddb52e",
   "metadata": {},
   "outputs": [],
   "source": [
    "print(\"second attempt\")"
   ]
  }
 ],
 "metadata": {
  "kernelspec": {
   "display_name": "Python 3 (ipykernel)",
   "language": "python",
   "name": "python3"
  },
  "language_info": {
   "codemirror_mode": {
    "name": "ipython",
    "version": 3
   },
   "file_extension": ".py",
   "mimetype": "text/x-python",
   "name": "python",
   "nbconvert_exporter": "python",
   "pygments_lexer": "ipython3",
   "version": "3.11.5"
  }
 },
 "nbformat": 4,
 "nbformat_minor": 5
}
